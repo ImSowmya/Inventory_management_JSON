{
 "cells": [
  {
   "cell_type": "code",
   "execution_count": null,
   "metadata": {},
   "outputs": [],
   "source": [
    "import json\n",
    "fd=open(\"Records.json\",\"r\")\n",
    "js=fd.read()\n",
    "fd.close()\n",
    "record=json.loads(js)\n",
    "print(\"__________MENU__________\")\n",
    "for keys in record.keys():\n",
    "        print(keys+\" ->   \"+record[keys][\"Name\"]+\"  \"+str(record[keys][\"Price\"])+\"  \"+str(record[keys][\"Quantity\"]))\n",
    "print(\"________________________\")\n",
    "pid=input(\"Enter Product ID: \")\n",
    "q=int(input(\"Enter the quantity: \"))\n",
    "print(\"\\n\\n__________BILL__________\")\n",
    "for keys in record.keys():\n",
    "        if pid==keys:\n",
    "                if q<=record[keys][\"Quantity\"]:\n",
    "                        print(\"Name        : \"+record[keys][\"Name\"])\n",
    "                        print(\"Price       : \",record[keys][\"Price\"])\n",
    "                        print(\"-------------------------\")\n",
    "                        print(\"Total cost  : \",record[keys][\"Price\"]*q)\n",
    "                        print(\"-------------------------\")\n",
    "                        record[keys][\"Quantity\"]-=q\n",
    "                else:\n",
    "                        if int(record[keys][\"Quantity\"]) == 0:\n",
    "                                print(\"No stock available currently. We will restock soon\")\n",
    "                        else:\n",
    "                                print(\"Currently we only have \"+str(record[keys][\"Quantity\"])+\" stock(s) for the product - \"+record[keys][\"Name\"]+\"\\nDo you want to purchase it?\\nY or N?\\n\")\n",
    "                                opt=input()\n",
    "                                if opt=='Y'or opt=='y':\n",
    "                                        print(\"Name        : \"+record[keys][\"Name\"])\n",
    "                                        print(\"Price       : \",record[keys][\"Price\"])\n",
    "                                        print(\"-------------------------\")\n",
    "                                        print(\"Total cost  : \",record[keys][\"Price\"]*record[keys][\"Quantity\"])\n",
    "                                        print(\"-------------------------\")\n",
    "                                        record[keys][\"Quantity\"]=0\n",
    "                                else:\n",
    "                                        print(\"Sorry for the inconvenience, We will restock soon\")\n",
    "                                \n",
    "js=json.dumps(record)\n",
    "fd=open(\"Records.json\",\"w\")\n",
    "fd.write(js)\n",
    "fd.close()"
   ]
  }
 ],
 "metadata": {
  "kernelspec": {
   "display_name": "Python 3",
   "language": "python",
   "name": "python3"
  },
  "language_info": {
   "codemirror_mode": {
    "name": "ipython",
    "version": 3
   },
   "file_extension": ".py",
   "mimetype": "text/x-python",
   "name": "python",
   "nbconvert_exporter": "python",
   "pygments_lexer": "ipython3",
   "version": "3.11.0"
  },
  "orig_nbformat": 4
 },
 "nbformat": 4,
 "nbformat_minor": 2
}
