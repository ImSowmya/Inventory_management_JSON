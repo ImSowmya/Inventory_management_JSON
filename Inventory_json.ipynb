{
 "cells": [
  {
   "cell_type": "code",
   "execution_count": null,
   "metadata": {},
   "outputs": [],
   "source": [
    "record={1001:{\"Name\":\"5 star\",\"Price\":5,\"Quantity\":100},\n",
    "        1002:{\"Name\":\"Wafer\",\"Price\":10,\"Quantity\":100},\n",
    "        1003:{\"Name\":\"Cake\",\"Price\":300,\"Quantity\":5},\n",
    "        1004:{\"Name\":\"Chicken\",\"Price\":500,\"Quantity\":5}}"
   ]
  },
  {
   "cell_type": "code",
   "execution_count": null,
   "metadata": {},
   "outputs": [],
   "source": [
    "print(\"__________MENU__________\")\n",
    "for keys in record.keys():\n",
    "        print(str(keys)+\" ->   \"+record[keys][\"Name\"]+\"  \"+str(record[keys][\"Price\"])+\"  \"+str(record[keys][\"Quantity\"]))\n",
    "print(\"________________________\")\n",
    "pid=int(input(\"Enter Product ID: \"))\n",
    "q=int(input(\"Enter the quantity: \"))\n",
    "print(\"\\n\\n__________BILL__________\")\n",
    "for keys in record.keys():\n",
    "    if pid==keys:\n",
    "        if q<=record[keys][\"Quantity\"]:\n",
    "            print(\"Name        : \"+record[keys][\"Name\"])\n",
    "            print(\"Price       : \",record[keys][\"Price\"])\n",
    "            print(\"-------------------------\")\n",
    "            print(\"Total cost  : \",record[keys][\"Price\"]*q)\n",
    "            print(\"-------------------------\")\n",
    "            record[keys][\"Quantity\"]-=q"
   ]
  }
 ],
 "metadata": {
  "kernelspec": {
   "display_name": "Python 3",
   "language": "python",
   "name": "python3"
  },
  "language_info": {
   "codemirror_mode": {
    "name": "ipython",
    "version": 3
   },
   "file_extension": ".py",
   "mimetype": "text/x-python",
   "name": "python",
   "nbconvert_exporter": "python",
   "pygments_lexer": "ipython3",
   "version": "3.11.0"
  },
  "orig_nbformat": 4
 },
 "nbformat": 4,
 "nbformat_minor": 2
}
